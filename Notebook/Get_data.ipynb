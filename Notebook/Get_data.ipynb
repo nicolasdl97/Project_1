{
 "cells": [
  {
   "cell_type": "markdown",
   "id": "ed59777f",
   "metadata": {},
   "source": [
    "# Acceso a la Data"
   ]
  },
  {
   "cell_type": "markdown",
   "id": "ac348786",
   "metadata": {},
   "source": [
    "## Generar Token"
   ]
  },
  {
   "cell_type": "code",
   "execution_count": 16,
   "id": "9bfa095c",
   "metadata": {},
   "outputs": [],
   "source": [
    "import os\n",
    "import base64\n",
    "import json\n",
    "import requests as rq\n",
    "from dotenv import load_dotenv\n",
    "\n",
    "def obtener_token_idealista(numero_api=1, env_path=None):\n",
    "    \"\"\"\n",
    "    Obtiene un token de acceso de la API de Idealista.\n",
    "    \n",
    "    Parámetros:\n",
    "    - numero_api (int): número de conjunto de claves (1, 2, ...)\n",
    "    - env_path (str): ruta absoluta al archivo .env (si no se pasa, usa uno por defecto)\n",
    "    \n",
    "    Retorna:\n",
    "    - token de autenticación como string\n",
    "    \"\"\"\n",
    "    \n",
    "    if env_path is None:\n",
    "        env_path = r\"C:\\Users\\nicol\\Documents\\Data_Science\\Projects\\Project_1\\.env\"\n",
    "    \n",
    "    # Cargar las variables desde el archivo .env\n",
    "    load_dotenv(dotenv_path=env_path)\n",
    "    \n",
    "    # Construir nombres de clave\n",
    "    api_key_name = f\"API_KEY_{numero_api}\"\n",
    "    secret_name = f\"API_SECRET_{numero_api}\"\n",
    "    \n",
    "    # Obtener valores del entorno\n",
    "    api_key = os.getenv(api_key_name)\n",
    "    secret = os.getenv(secret_name)\n",
    "    \n",
    "    if not api_key or not secret:\n",
    "        raise ValueError(f\"No se encontraron las claves {api_key_name} y/o {secret_name} en el archivo .env\")\n",
    "    \n",
    "    # Codificar credenciales\n",
    "    message = f\"{api_key}:{secret}\"\n",
    "    auth = \"Basic \" + base64.b64encode(message.encode(\"ascii\")).decode(\"ascii\")\n",
    "\n",
    "    headers_dic = {\n",
    "        \"Authorization\": auth,\n",
    "        \"Content-Type\": \"application/x-www-form-urlencoded;charset=UTF-8\"\n",
    "    }\n",
    "\n",
    "    params_dic = {\n",
    "        \"grant_type\": \"client_credentials\",\n",
    "        \"scope\": \"read\"\n",
    "    }\n",
    "\n",
    "    # Enviar solicitud\n",
    "    response = rq.post(\n",
    "        \"https://api.idealista.com/oauth/token\",\n",
    "        headers=headers_dic,\n",
    "        params=params_dic\n",
    "    )\n",
    "\n",
    "    try:\n",
    "        token = json.loads(response.text)['access_token']\n",
    "        return token\n",
    "    except Exception as e:\n",
    "        print(\"❌ Error al obtener el token:\", e)\n",
    "        print(\"Respuesta completa:\")\n",
    "        print(response.text)\n",
    "        return None\n"
   ]
  },
  {
   "cell_type": "code",
   "execution_count": null,
   "id": "a5a6bb82",
   "metadata": {},
   "outputs": [],
   "source": [
    "# Obtener token de la primera clave\n",
    "token1 = obtener_token_idealista(1)\n",
    "print(\"Token 1:\", token1)\n",
    "\n",
    "# Obtener token de la segunda clave\n",
    "token2 = obtener_token_idealista(2)\n",
    "print(\"Token 2:\", token2)"
   ]
  },
  {
   "cell_type": "markdown",
   "id": "673b5fb8",
   "metadata": {},
   "source": [
    "## Filtro para la busqueda"
   ]
  },
  {
   "cell_type": "code",
   "execution_count": 18,
   "id": "f38efa4d",
   "metadata": {},
   "outputs": [],
   "source": [
    "# Parámetros generales de búsqueda\n",
    "base_url = 'https://api.idealista.com/3.5/'  # Base search url\n",
    "country = 'es'  # Country code\n",
    "language = 'es'  # Language\n",
    "max_items = '50'  # Máximo permitido por llamada\n",
    "operation = 'sale'  # Tipo de operación: venta\n",
    "property_type = 'homes'  # Tipo de propiedad\n",
    "order = 'publicationDate'  # Ordenar por fecha de publicación\n",
    "sort = 'desc'  # Más recientes primero\n",
    "bankOffer = 'false'  # No filtrar por bancos\n",
    "maxprice = '850000'\n",
    "minprice = '90000'\n",
    "\n",
    "# Diccionario de ubicaciones\n",
    "location_ids = {\n",
    "    'madrid': '0-EU-ES-28',\n",
    "    'barcelona': '0-EU-ES-08'\n",
    "}\n",
    "\n",
    "# Función para definir URL por ciudad\n",
    "def define_search_url(location_name,pagination=1):\n",
    "    '''\n",
    "    Crea la URL de búsqueda personalizada para una ciudad específica.\n",
    "    location_name: \"madrid\" o \"barcelona\"\n",
    "    pagination: número de página (por defecto = 1)\n",
    "    '''\n",
    "    location_id = location_ids.get(location_name.lower())\n",
    "    if not location_id:\n",
    "        raise ValueError(f\"Ubicación no válida: {location_name}\")\n",
    "\n",
    "    url = (\n",
    "        base_url +\n",
    "        country +\n",
    "        '/search?operation=' + operation +\n",
    "        '&maxItems=' + max_items +\n",
    "        '&order=' + order +\n",
    "        '&locationId=' + location_id +\n",
    "        '&propertyType=' + property_type +\n",
    "        '&sort=' + sort +\n",
    "        '&numPage=' + str(pagination) +\n",
    "        '&maxPrice=' + maxprice +\n",
    "        '&minPrice=' + minprice +\n",
    "        '&language=' + language\n",
    "    )\n",
    "    return url\n"
   ]
  },
  {
   "cell_type": "code",
   "execution_count": null,
   "id": "e176dd53",
   "metadata": {},
   "outputs": [],
   "source": [
    "# URL generado para la busqueda\n",
    "madrid_url = define_search_url('madrid')\n",
    "barcelona_url = define_search_url('barcelona')\n",
    "\n",
    "print(\"URL Madrid:\", madrid_url)\n",
    "print(\"URL Barcelona:\", barcelona_url)"
   ]
  },
  {
   "cell_type": "markdown",
   "id": "29fabbc0",
   "metadata": {},
   "source": [
    "## Busqueda de datos"
   ]
  },
  {
   "cell_type": "code",
   "execution_count": 20,
   "id": "9d08d50a",
   "metadata": {},
   "outputs": [],
   "source": [
    "# Función para hacer la busqueda\n",
    "def search_api(token, url):\n",
    "    '''\n",
    "    This function will use the token and url created previously, and return our search results.\n",
    "    '''\n",
    "    headers = {'Content-Type': 'Content-Type: multipart/form-data;',   # Define the search headers\n",
    "                'Authorization' : 'Bearer ' + token}\n",
    "\n",
    "    content = rq.post(url, headers = headers)   # Return the content from the request\n",
    "\n",
    "    result = json.loads(content.text)   # Transform the result as a json file\n",
    "\n",
    "    return result\n"
   ]
  },
  {
   "cell_type": "code",
   "execution_count": 21,
   "id": "86b425df",
   "metadata": {},
   "outputs": [],
   "source": [
    "first_search = search_api(token1,barcelona_url)"
   ]
  },
  {
   "cell_type": "code",
   "execution_count": null,
   "id": "5dd16e86",
   "metadata": {},
   "outputs": [],
   "source": [
    "# Cantidad de paginas \n",
    "total_pages=first_search\n",
    "print(total_pages['totalPages'])"
   ]
  },
  {
   "cell_type": "code",
   "execution_count": 3,
   "id": "97a6d2b8",
   "metadata": {},
   "outputs": [],
   "source": [
    "import pandas as pd\n",
    "\n",
    "def results_to_df(results):\n",
    "    '''\n",
    "    This function will save the json results as a dataframe and return the resulting dataframe\n",
    "    '''\n",
    "    df = pd.DataFrame.from_dict(results['elementList'])\n",
    "\n",
    "    return df\n",
    "\n",
    "def concat_df(df, df_tot):\n",
    "    '''\n",
    "    This function will take the main dataframe (df_tot), and concat it with the given individual dataframe,\n",
    "    returning the main dataframe\n",
    "    '''\n",
    "    df_tot= pd.concat([df_tot,df],ignore_index=True)\n",
    "\n",
    "    return df_tot\n",
    "\n",
    "def df_to_csv(df,file_path):\n",
    "    '''\n",
    "    This function will take a given dataframe and save it as a csv file\n",
    "    '''\n",
    "    df = df.reset_index()   # Reset the index in order to organise the records\n",
    "    df.to_csv(file_path, index=False)   # Save it into a csv"
   ]
  },
  {
   "cell_type": "code",
   "execution_count": 26,
   "id": "c76d011f",
   "metadata": {},
   "outputs": [],
   "source": [
    "df = results_to_df(first_search)\n",
    "df_tot = pd.DataFrame()\n",
    "df_tot = concat_df(df, df_tot)"
   ]
  },
  {
   "cell_type": "code",
   "execution_count": null,
   "id": "6b08e1a5",
   "metadata": {},
   "outputs": [],
   "source": [
    "# Getting the data \n",
    "for i in range(2, 200):\n",
    "    url = define_search_url('barcelona',i) # Add the pagination to the url\n",
    "    results = search_api(token1,url)   # Get the search results\n",
    "    df = results_to_df(results)   # Save the results as a dataframe\n",
    "    df_tot = concat_df(df, df_tot)   # Concat the results to the main dataframe"
   ]
  },
  {
   "cell_type": "code",
   "execution_count": null,
   "id": "9419c9e9",
   "metadata": {},
   "outputs": [],
   "source": [
    "from datetime import datetime\n",
    "# Obtener fecha y hora actual\n",
    "ahora = datetime.now()\n",
    "# Formatear: Idealista_YYYY-MM-DD_HH-MM-SS\n",
    "name_file_dt=fr\"idealista_{ahora.strftime('%Y-%m-%d_%H-%M-%S')}.csv\"\n",
    "name_file_=fr\"idealista_bcn_sale_08_2025.csv\"\n",
    "\n",
    "file_path=fr'..\\data\\+{name_file}'\n",
    "\n",
    "df_to_csv(df_tot,file_path)"
   ]
  },
  {
   "cell_type": "markdown",
   "id": "1637f1e8",
   "metadata": {},
   "source": [
    "## Visualizacion de los datos"
   ]
  },
  {
   "cell_type": "code",
   "execution_count": null,
   "id": "92e74501",
   "metadata": {},
   "outputs": [],
   "source": [
    "# Ruta relativa\n",
    "df_idealista_bcn = pd.read_csv(r\"..\\data\\idealista_bcn_sale_08_2025.csv\")\n",
    "print(df_idealista_bcn.info())"
   ]
  }
 ],
 "metadata": {
  "kernelspec": {
   "display_name": "env",
   "language": "python",
   "name": "python3"
  },
  "language_info": {
   "codemirror_mode": {
    "name": "ipython",
    "version": 3
   },
   "file_extension": ".py",
   "mimetype": "text/x-python",
   "name": "python",
   "nbconvert_exporter": "python",
   "pygments_lexer": "ipython3",
   "version": "3.12.0"
  }
 },
 "nbformat": 4,
 "nbformat_minor": 5
}
