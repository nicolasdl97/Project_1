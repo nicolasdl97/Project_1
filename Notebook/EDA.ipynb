{
 "cells": [
  {
   "cell_type": "markdown",
   "id": "947e4ab5",
   "metadata": {},
   "source": [
    "# EDA"
   ]
  },
  {
   "cell_type": "markdown",
   "id": "293514f4",
   "metadata": {},
   "source": [
    "## Read Data"
   ]
  },
  {
   "cell_type": "code",
   "execution_count": null,
   "id": "1e31f209",
   "metadata": {},
   "outputs": [
    {
     "name": "stdout",
     "output_type": "stream",
     "text": [
      "<class 'pandas.core.frame.DataFrame'>\n",
      "RangeIndex: 5000 entries, 0 to 4999\n",
      "Data columns (total 44 columns):\n",
      " #   Column                  Non-Null Count  Dtype  \n",
      "---  ------                  --------------  -----  \n",
      " 0   index                   5000 non-null   int64  \n",
      " 1   propertyCode            5000 non-null   int64  \n",
      " 2   thumbnail               4967 non-null   object \n",
      " 3   externalReference       4372 non-null   object \n",
      " 4   numPhotos               5000 non-null   int64  \n",
      " 5   floor                   3532 non-null   object \n",
      " 6   price                   5000 non-null   float64\n",
      " 7   priceInfo               5000 non-null   object \n",
      " 8   propertyType            5000 non-null   object \n",
      " 9   operation               5000 non-null   object \n",
      " 10  size                    5000 non-null   float64\n",
      " 11  exterior                3508 non-null   object \n",
      " 12  rooms                   5000 non-null   int64  \n",
      " 13  bathrooms               5000 non-null   int64  \n",
      " 14  address                 5000 non-null   object \n",
      " 15  province                5000 non-null   object \n",
      " 16  municipality            5000 non-null   object \n",
      " 17  district                4047 non-null   object \n",
      " 18  country                 5000 non-null   object \n",
      " 19  latitude                5000 non-null   float64\n",
      " 20  longitude               5000 non-null   float64\n",
      " 21  showAddress             5000 non-null   bool   \n",
      " 22  url                     5000 non-null   object \n",
      " 23  description             4984 non-null   object \n",
      " 24  hasVideo                5000 non-null   bool   \n",
      " 25  status                  4968 non-null   object \n",
      " 26  newDevelopment          5000 non-null   bool   \n",
      " 27  hasLift                 3853 non-null   object \n",
      " 28  priceByArea             5000 non-null   float64\n",
      " 29  change                  5000 non-null   object \n",
      " 30  detailedType            5000 non-null   object \n",
      " 31  suggestedTexts          5000 non-null   object \n",
      " 32  hasPlan                 5000 non-null   bool   \n",
      " 33  has3DTour               5000 non-null   bool   \n",
      " 34  has360                  5000 non-null   bool   \n",
      " 35  hasStaging              5000 non-null   bool   \n",
      " 36  savedAd                 5000 non-null   object \n",
      " 37  notes                   5000 non-null   object \n",
      " 38  topNewDevelopment       5000 non-null   bool   \n",
      " 39  topPlus                 5000 non-null   bool   \n",
      " 40  parkingSpace            1402 non-null   object \n",
      " 41  highlight               1698 non-null   object \n",
      " 42  neighborhood            2418 non-null   object \n",
      " 43  newDevelopmentFinished  181 non-null    object \n",
      "dtypes: bool(9), float64(5), int64(5), object(25)\n",
      "memory usage: 1.4+ MB\n"
     ]
    }
   ],
   "source": [
    "import pandas as pd\n",
    "file_path=r'data\\idealista_bcn_sale_08_2025.csv'\n",
    "df= pd.read_csv(file_path)\n",
    "df.info()"
   ]
  },
  {
   "cell_type": "code",
   "execution_count": null,
   "id": "bde603e7",
   "metadata": {},
   "outputs": [],
   "source": [
    "columns=[\"propertyCode\",\"floor\",\"price\",\"\"]"
   ]
  },
  {
   "cell_type": "code",
   "execution_count": 2,
   "id": "ca652b15",
   "metadata": {},
   "outputs": [
    {
     "name": "stdout",
     "output_type": "stream",
     "text": [
      "index                        0\n",
      "propertyCode                 0\n",
      "thumbnail                   33\n",
      "externalReference          628\n",
      "numPhotos                    0\n",
      "floor                     1468\n",
      "price                        0\n",
      "priceInfo                    0\n",
      "propertyType                 0\n",
      "operation                    0\n",
      "size                         0\n",
      "exterior                  1492\n",
      "rooms                        0\n",
      "bathrooms                    0\n",
      "address                      0\n",
      "province                     0\n",
      "municipality                 0\n",
      "district                   953\n",
      "country                      0\n",
      "latitude                     0\n",
      "longitude                    0\n",
      "showAddress                  0\n",
      "url                          0\n",
      "description                 16\n",
      "hasVideo                     0\n",
      "status                      32\n",
      "newDevelopment               0\n",
      "hasLift                   1147\n",
      "priceByArea                  0\n",
      "change                       0\n",
      "detailedType                 0\n",
      "suggestedTexts               0\n",
      "hasPlan                      0\n",
      "has3DTour                    0\n",
      "has360                       0\n",
      "hasStaging                   0\n",
      "savedAd                      0\n",
      "notes                        0\n",
      "topNewDevelopment            0\n",
      "topPlus                      0\n",
      "parkingSpace              3598\n",
      "highlight                 3302\n",
      "neighborhood              2582\n",
      "newDevelopmentFinished    4819\n",
      "dtype: int64\n"
     ]
    }
   ],
   "source": [
    "print(df.isna().sum())"
   ]
  },
  {
   "cell_type": "code",
   "execution_count": 3,
   "id": "8e63a098",
   "metadata": {},
   "outputs": [
    {
     "name": "stdout",
     "output_type": "stream",
     "text": [
      "250.0\n"
     ]
    }
   ],
   "source": [
    "threshold = len(df)*0.05\n",
    "print(threshold)"
   ]
  },
  {
   "cell_type": "code",
   "execution_count": 4,
   "id": "0934dc22",
   "metadata": {},
   "outputs": [
    {
     "name": "stdout",
     "output_type": "stream",
     "text": [
      "Index(['externalReference', 'floor', 'exterior', 'district', 'hasLift',\n",
      "       'parkingSpace', 'highlight', 'neighborhood', 'newDevelopmentFinished'],\n",
      "      dtype='object')\n"
     ]
    }
   ],
   "source": [
    "cols_to_drop=df.columns[df.isna().sum()>= threshold]\n",
    "print(cols_to_drop)"
   ]
  },
  {
   "cell_type": "code",
   "execution_count": 5,
   "id": "dfb0ca93",
   "metadata": {},
   "outputs": [
    {
     "data": {
      "image/png": "[encoded data removed]",
      "text/plain": [
       "<Figure size 640x480 with 1 Axes>"
      ]
     },
     "metadata": {},
     "output_type": "display_data"
    }
   ],
   "source": [
    "import matplotlib.pyplot as plt\n",
    "import seaborn as sns\n",
    "mask_floor=df[\"floor\"].isna()\n",
    "sns.histplot(data=df[mask_floor],x=\"propertyType\")\n",
    "plt.show()"
   ]
  },
  {
   "cell_type": "code",
   "execution_count": 6,
   "id": "297c2722",
   "metadata": {},
   "outputs": [
    {
     "data": {
      "image/png": "[encoded data removed]",
      "text/plain": [
       "<Figure size 640x480 with 1 Axes>"
      ]
     },
     "metadata": {},
     "output_type": "display_data"
    }
   ],
   "source": [
    "mask_exterior=df[\"exterior\"].isna()\n",
    "sns.histplot(data=df[mask_exterior],x=\"propertyType\")\n",
    "plt.show()"
   ]
  },
  {
   "cell_type": "code",
   "execution_count": 7,
   "id": "0df00ea5",
   "metadata": {},
   "outputs": [
    {
     "data": {
      "text/plain": [
       "index                        0\n",
       "propertyCode                 0\n",
       "thumbnail                   33\n",
       "externalReference          628\n",
       "numPhotos                    0\n",
       "floor                      398\n",
       "price                        0\n",
       "priceInfo                    0\n",
       "propertyType                 0\n",
       "operation                    0\n",
       "size                         0\n",
       "exterior                   419\n",
       "rooms                        0\n",
       "bathrooms                    0\n",
       "address                      0\n",
       "province                     0\n",
       "municipality                 0\n",
       "district                   953\n",
       "country                      0\n",
       "latitude                     0\n",
       "longitude                    0\n",
       "showAddress                  0\n",
       "url                          0\n",
       "description                 16\n",
       "hasVideo                     0\n",
       "status                      32\n",
       "newDevelopment               0\n",
       "hasLift                   1147\n",
       "priceByArea                  0\n",
       "change                       0\n",
       "detailedType                 0\n",
       "suggestedTexts               0\n",
       "hasPlan                      0\n",
       "has3DTour                    0\n",
       "has360                       0\n",
       "hasStaging                   0\n",
       "savedAd                      0\n",
       "notes                        0\n",
       "topNewDevelopment            0\n",
       "topPlus                      0\n",
       "parkingSpace              3598\n",
       "highlight                 3302\n",
       "neighborhood              2582\n",
       "newDevelopmentFinished    4819\n",
       "dtype: int64"
      ]
     },
     "execution_count": 7,
     "metadata": {},
     "output_type": "execute_result"
    }
   ],
   "source": [
    "df_clean = df.copy()\n",
    "\n",
    "mask = df_clean[\"propertyType\"].isin([\"chalet\", \"countryHouse\", \"penthouse\"])\n",
    "\n",
    "df_clean.loc[mask, \"floor\"]    = 0\n",
    "df_clean.loc[mask, \"exterior\"] = 1\n",
    "\n",
    "df_clean.isna().sum()"
   ]
  },
  {
   "cell_type": "code",
   "execution_count": 8,
   "id": "99ec678c",
   "metadata": {},
   "outputs": [],
   "source": [
    "bajo_vals = [\"bj\", \"en\", \"st\", \"pr\", \"ss\", \"-1\", \"+1\"]\n",
    "def limpiar_floor(val):\n",
    "    try:\n",
    "        val = str(val).lower().strip()\n",
    "        if val in bajo_vals:\n",
    "            return 0\n",
    "        elif val in [\"4rt\"]:\n",
    "            return 4  # caso raro, puedes personalizarlo\n",
    "        return int(val)\n",
    "    except:\n",
    "        return None\n",
    "\n",
    "# Aplicar limpieza\n",
    "df_clean[\"floor_clean\"] = df_clean[\"floor\"].apply(limpiar_floor)\n",
    "\n",
    "# Paso 2: Agrupar en categorías\n",
    "def agrupar_floor(val):\n",
    "    if pd.isna(val):\n",
    "        return None\n",
    "    elif val == 0:\n",
    "        return \"0\"\n",
    "    elif val == 1:\n",
    "        return \"1\"\n",
    "    elif val == 2:\n",
    "        return \"2\"\n",
    "    elif val in [3,4]:\n",
    "        return \"3-4\"\n",
    "    else:\n",
    "        return \"5+\"\n",
    "\n",
    "df_clean[\"floor_grouped\"] = df_clean[\"floor_clean\"].apply(agrupar_floor)\n",
    "\n",
    "# Paso 3: Convertir a variable categórica ordenada\n",
    "orden = [\"0\", \"1\", \"2\", \"3-4\",\"5+\"]\n",
    "df_clean[\"floor_grouped\"] = pd.Categorical(df_clean[\"floor_grouped\"], categories=orden, ordered=True)\n"
   ]
  },
  {
   "cell_type": "code",
   "execution_count": 9,
   "id": "0b88e209",
   "metadata": {},
   "outputs": [
    {
     "data": {
      "image/png": "[encoded data removed]",
      "text/plain": [
       "<Figure size 640x480 with 1 Axes>"
      ]
     },
     "metadata": {},
     "output_type": "display_data"
    }
   ],
   "source": [
    "\n",
    "sns.histplot(data=df_clean,x=\"floor_grouped\")\n",
    "plt.show()\n"
   ]
  },
  {
   "cell_type": "code",
   "execution_count": 10,
   "id": "afd61118",
   "metadata": {},
   "outputs": [
    {
     "data": {
      "text/plain": [
       "index                        0\n",
       "propertyCode                 0\n",
       "thumbnail                   33\n",
       "externalReference          628\n",
       "numPhotos                    0\n",
       "floor                      398\n",
       "price                        0\n",
       "priceInfo                    0\n",
       "propertyType                 0\n",
       "operation                    0\n",
       "size                         0\n",
       "exterior                   419\n",
       "rooms                        0\n",
       "bathrooms                    0\n",
       "address                      0\n",
       "province                     0\n",
       "municipality                 0\n",
       "district                   953\n",
       "country                      0\n",
       "latitude                     0\n",
       "longitude                    0\n",
       "showAddress                  0\n",
       "url                          0\n",
       "description                 16\n",
       "hasVideo                     0\n",
       "status                      32\n",
       "newDevelopment               0\n",
       "hasLift                   1147\n",
       "priceByArea                  0\n",
       "change                       0\n",
       "detailedType                 0\n",
       "suggestedTexts               0\n",
       "hasPlan                      0\n",
       "has3DTour                    0\n",
       "has360                       0\n",
       "hasStaging                   0\n",
       "savedAd                      0\n",
       "notes                        0\n",
       "topNewDevelopment            0\n",
       "topPlus                      0\n",
       "parkingSpace              3598\n",
       "highlight                 3302\n",
       "neighborhood              2582\n",
       "newDevelopmentFinished    4819\n",
       "floor_clean                398\n",
       "floor_grouped              398\n",
       "dtype: int64"
      ]
     },
     "execution_count": 10,
     "metadata": {},
     "output_type": "execute_result"
    }
   ],
   "source": [
    "df_clean.isna().sum()"
   ]
  }
 ],
 "metadata": {
  "kernelspec": {
   "display_name": "env",
   "language": "python",
   "name": "python3"
  },
  "language_info": {
   "codemirror_mode": {
    "name": "ipython",
    "version": 3
   },
   "file_extension": ".py",
   "mimetype": "text/x-python",
   "name": "python",
   "nbconvert_exporter": "python",
   "pygments_lexer": "ipython3",
   "version": "3.12.0"
  }
 },
 "nbformat": 4,
 "nbformat_minor": 5
}
